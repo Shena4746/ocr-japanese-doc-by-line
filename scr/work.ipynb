{
 "cells": [
  {
   "cell_type": "code",
   "execution_count": 1,
   "metadata": {},
   "outputs": [],
   "source": [
    "import cv2, matplotlib\n",
    "import numpy as np\n",
    "from sklearn.cluster import KMeans\n",
    "from pyclustering.cluster.xmeans import xmeans\n",
    "from pyclustering.cluster.center_initializer import kmeans_plusplus_initializer\n",
    "# OCR\n",
    "import io\n",
    "import os\n",
    "\n",
    "# Imports the Google Cloud client library\n",
    "from google.cloud import vision"
   ]
  },
  {
   "cell_type": "code",
   "execution_count": 158,
   "metadata": {},
   "outputs": [],
   "source": [
    "img_path = \"006.png\"\n",
    "def refresh_img(img_path = img_path):\n",
    "\treturn cv2.imread(img_path)"
   ]
  },
  {
   "cell_type": "code",
   "execution_count": 3,
   "metadata": {},
   "outputs": [],
   "source": [
    "def get_gray_img(img):\n",
    "\treturn cv2.cvtColor(img, cv2.COLOR_BGR2GRAY)"
   ]
  },
  {
   "cell_type": "code",
   "execution_count": 4,
   "metadata": {},
   "outputs": [
    {
     "data": {
      "text/plain": [
       "(2490, 1720)"
      ]
     },
     "execution_count": 4,
     "metadata": {},
     "output_type": "execute_result"
    }
   ],
   "source": [
    "def get_img_size(img):\n",
    "\treturn img.shape[:2] # height, width\n",
    "get_img_size(refresh_img())"
   ]
  },
  {
   "cell_type": "code",
   "execution_count": 5,
   "metadata": {},
   "outputs": [],
   "source": [
    "def to_odd(x: int):\n",
    "\treturn x if x % 2 ==1 else x-1"
   ]
  },
  {
   "cell_type": "code",
   "execution_count": 6,
   "metadata": {},
   "outputs": [],
   "source": [
    "def display_img(mat):\n",
    "   cv2.namedWindow(\"image\", cv2.WINDOW_NORMAL)\t# 可変ウインドウ「image」を開く\n",
    "   cv2.imshow(\"image\", mat)\t# imageウインドウの中に受け取った画像を展開する\n",
    "   cv2.waitKey(1)"
   ]
  },
  {
   "cell_type": "code",
   "execution_count": 7,
   "metadata": {},
   "outputs": [],
   "source": [
    "def close_all_img():\n",
    "\tcv2.destroyAllWindows()\n",
    "\tcv2.waitKey(1)"
   ]
  },
  {
   "cell_type": "code",
   "execution_count": 8,
   "metadata": {},
   "outputs": [],
   "source": [
    "def get_bw_image(img, gauss_x: int, gauss_y:int, thr:int = 250):\n",
    "\tgray_img = cv2.cvtColor(img, cv2.COLOR_BGR2GRAY)\n",
    "\timg_blur = cv2.GaussianBlur(gray_img, (to_odd(gauss_x),to_odd(gauss_y)), 0)\n",
    "\t_, img_thr = cv2.threshold(img_blur, thr, 255, cv2.THRESH_BINARY)\n",
    "\treturn cv2.bitwise_not(img_thr)"
   ]
  },
  {
   "cell_type": "code",
   "execution_count": 9,
   "metadata": {},
   "outputs": [],
   "source": [
    "def get_effective_zone(img, offset_percent = 1, thr = 250):\n",
    "\tgray_img = cv2.cvtColor(img, cv2.COLOR_BGR2GRAY)\n",
    "\theight, width = get_img_size(gray_img)\n",
    "\timg_reversed = get_bw_image(img = img, gauss_x= to_odd(max(width//100*5,1)), gauss_y=to_odd(max(height//100*5,1)),thr=thr)\n",
    "\tcontours, _ = cv2.findContours(img_reversed, cv2.RETR_EXTERNAL, cv2.CHAIN_APPROX_NONE)\n",
    "\t# get the right and left end\n",
    "\tleft_end: int = width\n",
    "\tright_end: int = 0\n",
    "\tupper_end: int = height\n",
    "\tlower_end: int = 0\n",
    "\tfor contour in contours:\n",
    "\t\tx, y, w, h = cv2.boundingRect(contour)\n",
    "\t\tleft_end = min(left_end,x)\n",
    "\t\tright_end = max(right_end, x+w)\n",
    "\t\tupper_end = min(upper_end,y)\n",
    "\t\tlower_end = max(lower_end, y+h)\n",
    "\treturn left_end, right_end, upper_end, lower_end"
   ]
  },
  {
   "cell_type": "code",
   "execution_count": 10,
   "metadata": {},
   "outputs": [],
   "source": [
    "def get_frame(img, blur_rate:int =3):\n",
    "\timg_gray = get_gray_img(img)\n",
    "\theight, width = get_img_size(img_gray)\n",
    "\timg_blur = cv2.GaussianBlur(img_gray, (to_odd(blur_rate*width//100),to_odd(blur_rate*height//100)),3)\n",
    "\n",
    "\tavarage_color_per_row = np.average(img_blur, axis=1)\n",
    "\t# detect by kmeans the rows of no information\n",
    "\tn_clstrs = 3\n",
    "\talgorithm = KMeans(n_clusters = n_clstrs)\n",
    "\tlabels = algorithm.fit_predict(avarage_color_per_row.reshape(-1, 1))\n",
    "\t# center of each clusters\n",
    "\tcenters = [np.average(avarage_color_per_row[labels==i]) for i in np.arange(0,n_clstrs)]\n",
    "\t# this cluster has very likely to have no text\n",
    "\tlabel_for_absence = np.argmax(centers)\n",
    "\t# create frame for contours.\n",
    "\t# it should have the same size as input image\n",
    "\tframe = np.zeros((height,width,3),np.uint8)\n",
    "\tframe += 255\t# make them all white\n",
    "\tif(np.any(labels!=label_for_absence)):\n",
    "\t\tframe[labels!=label_for_absence]=0\n",
    "\n",
    "\t# fill non-effective zone black\n",
    "\tleft_end, right_end, _, _ = get_effective_zone(img)\n",
    "\t# fill horizontal end\n",
    "\tframe[0:height,0:left_end]=255\n",
    "\tframe[0:height, right_end:width]=255\n",
    "\tframe = cv2.bitwise_not(frame)\n",
    "\t_, frame = cv2.threshold(frame, 127, 255, cv2.THRESH_BINARY)\n",
    "\treturn cv2.cvtColor(frame,cv2.COLOR_BGR2GRAY)"
   ]
  },
  {
   "cell_type": "code",
   "execution_count": 101,
   "metadata": {},
   "outputs": [],
   "source": [
    "def get_contours(frame):\n",
    "\tcontours, _ = cv2.findContours(frame, cv2.RETR_EXTERNAL, cv2.CHAIN_APPROX_SIMPLE)\n",
    "\treturn np.array(contours)"
   ]
  },
  {
   "cell_type": "code",
   "execution_count": 12,
   "metadata": {},
   "outputs": [],
   "source": [
    "def get_img_with_contours(img, contours, color = (0,255,0), line_width: int=3):\n",
    "\treturn cv2.drawContours(img, contours, -1, color, line_width)"
   ]
  },
  {
   "cell_type": "code",
   "execution_count": 38,
   "metadata": {},
   "outputs": [],
   "source": [
    "close_all_img()"
   ]
  },
  {
   "cell_type": "code",
   "execution_count": 39,
   "metadata": {},
   "outputs": [],
   "source": [
    "def exe_xmeans(data, number_initial_centers = 2, number_max_centers = 4):\n",
    "\tinitial_centers = kmeans_plusplus_initializer(data, number_initial_centers).initialize()\n",
    "\txmeans_instance = xmeans(data=data, initial_centers=initial_centers, kmax=number_max_centers, ccore=True)\n",
    "\txmeans_instance.process()\n",
    "\treturn xmeans_instance"
   ]
  },
  {
   "cell_type": "code",
   "execution_count": 40,
   "metadata": {},
   "outputs": [
    {
     "data": {
      "text/plain": [
       "[29.0, 55.0]"
      ]
     },
     "execution_count": 40,
     "metadata": {},
     "output_type": "execute_result"
    }
   ],
   "source": [
    "contours = get_contours(get_frame(refresh_img(),blur_rate=1))\n",
    "contours_height = [np.abs(x-y)[0,1] for x,y,_,_ in contours]\n",
    "contours_height = np.reshape(contours_height,(-1,1))\n",
    "xmeans_instance = exe_xmeans(contours_height)\n",
    "clusters = xmeans_instance.get_clusters()\n",
    "predict = xmeans_instance.predict(contours_height)\n",
    "classes = len(xmeans_instance._xmeans__centers)\n",
    "med_classes = [np.median(contours_height[predict == i]) for i in range(0,classes)]\n",
    "med_classes"
   ]
  },
  {
   "cell_type": "code",
   "execution_count": 38,
   "metadata": {},
   "outputs": [],
   "source": [
    "def get_contours_height(contours):\n",
    "\treturn np.array([np.abs(x-y)[0,1] for x,y,_,_ in contours])"
   ]
  },
  {
   "cell_type": "code",
   "execution_count": 155,
   "metadata": {},
   "outputs": [
    {
     "ename": "NameError",
     "evalue": "name 'xmeans_instance' is not defined",
     "output_type": "error",
     "traceback": [
      "\u001b[0;31m---------------------------------------------------------------------------\u001b[0m",
      "\u001b[0;31mNameError\u001b[0m                                 Traceback (most recent call last)",
      "\u001b[1;32m/home/nick/code/python/toc-ocr/scr/work.ipynb Cell 17\u001b[0m in \u001b[0;36m<cell line: 1>\u001b[0;34m()\u001b[0m\n\u001b[0;32m----> <a href='vscode-notebook-cell://wsl%2Bubuntu-20.04/home/nick/code/python/toc-ocr/scr/work.ipynb#ch0000015vscode-remote?line=0'>1</a>\u001b[0m clusters \u001b[39m=\u001b[39m xmeans_instance\u001b[39m.\u001b[39mget_clusters()\n\u001b[1;32m      <a href='vscode-notebook-cell://wsl%2Bubuntu-20.04/home/nick/code/python/toc-ocr/scr/work.ipynb#ch0000015vscode-remote?line=1'>2</a>\u001b[0m predict \u001b[39m=\u001b[39m xmeans_instance\u001b[39m.\u001b[39mpredict(contours_height)\n\u001b[1;32m      <a href='vscode-notebook-cell://wsl%2Bubuntu-20.04/home/nick/code/python/toc-ocr/scr/work.ipynb#ch0000015vscode-remote?line=2'>3</a>\u001b[0m classes \u001b[39m=\u001b[39m \u001b[39mlen\u001b[39m(xmeans_instance\u001b[39m.\u001b[39m_xmeans__centers)\n",
      "\u001b[0;31mNameError\u001b[0m: name 'xmeans_instance' is not defined"
     ]
    }
   ],
   "source": [
    "# XMeans. no longer used\n",
    "clusters = xmeans_instance.get_clusters()\n",
    "predict = xmeans_instance.predict(contours_height)\n",
    "classes = len(xmeans_instance._xmeans__centers)\n",
    "med_classes = [np.median(contours_height[predict == i]) for i in range(0,classes)]\n",
    "# flatten to 1 vector for ease of calculation\n",
    "contours_shape = np.shape(contours)\n",
    "contours = np.reshape(contours,(-1,))\n",
    "for cls in range(0,classes):\n",
    "\tlabel_match = predict == cls\n",
    "\twhere_small = np.reshape(contours_height<med_classes[cls],(-1,))\n",
    "\tidx = label_match & where_small\n",
    "\t# flatten to 1 vector for ease of calculation\n",
    "\tpadding = np.size(contours)//np.size(idx)\n",
    "\tidx_pad = [[i]*padding for i in idx]\n",
    "\tidx_pad = np.reshape(idx_pad, (-1,))\n",
    "\tcontours_modified = np.reshape(contours, (-1,))[idx_pad]\n",
    "\tL = len(contours_modified)\n",
    "\tcontours_modified = np.reshape(contours_modified, (L//(4*2),4,1,2))\n",
    "\tfor i in range(0,len(contours_modified)):\n",
    "\t\ta,b,c,d = contours_modified[i]\n",
    "\t\ty_mid = (a[0,1]+b[0,1])//2\n",
    "\t\ty_len = b[0,1] - a[0,1]\n",
    "\t\tdiff = med_classes[cls] - y_len\n",
    "\t\tslide = diff//2 + 1\n",
    "\t\ta[0,1] -= slide\n",
    "\t\tb[0,1] += slide\n",
    "\t\tc[0,1] += slide\n",
    "\t\td[0,1] -= slide\n",
    "\tcontours[idx_pad] = np.reshape(contours_modified, (-1,))\n",
    "contours = np.reshape(contours, contours_shape)"
   ]
  },
  {
   "cell_type": "code",
   "execution_count": 102,
   "metadata": {},
   "outputs": [],
   "source": [
    "def sort_contours(contours):\n",
    "\treturn contours[contours[:,0,0,1].argsort(),:]"
   ]
  },
  {
   "cell_type": "code",
   "execution_count": 159,
   "metadata": {},
   "outputs": [],
   "source": [
    "def expand_contours(img, contours):\n",
    "\tLen = len(contours)\n",
    "\tcontours = sort_contours(contours)\n",
    "\t# calculate ratio of internal division by which the amount of expansion is determined\n",
    "\t# the ratio is based on the squared heights of adjacent contours\n",
    "\tcontours_height = get_contours_height(contours)\n",
    "\theight_sq = contours_height**2\n",
    "\tdenom = np.roll(height_sq,-1) + height_sq\n",
    "\tratio_for_lower = height_sq[:-1]/denom[:-1]\n",
    "\t# vertical distance between neighboring contours\n",
    "\tdist = [(contours[i+1][0]-contours[i][1]) for i in range(0,Len-1)]\n",
    "\tdist = np.array(dist).flatten()[1::2].astype('int32')\n",
    "\t# amount of expansion\n",
    "\tplus_for_lower_contour = (ratio_for_lower * dist).astype('int32') # amount for the lower of edge of upper contours \n",
    "\tplus_for_upper_contour = dist - plus_for_lower_contour # amount for the upper of edge of lower contours\n",
    "\tfor i in range(0,Len):\n",
    "\t\tif(i<Len-1):\n",
    "\t\t\tcontours[i]=__get_expanded_contour(contours[i],plus_for_upper_contour[i], expand_upper_edge=False)\n",
    "\t\t\tcontours[i+1]=__get_expanded_contour(contours[i+1],plus_for_lower_contour[i],expand_upper_edge=True)\n",
    "\t\t# expand the free edge of the first and the last contour by the same amount\n",
    "\t\tif(i==0):\n",
    "\t\t\tcontours[i]=__get_expanded_contour(contours[i],plus_for_upper_contour[i], expand_upper_edge=True)\n",
    "\t\tif(i==Len-2):\n",
    "\t\t\tcontours[i+1]=__get_expanded_contour(contours[i+1],plus_for_lower_contour[i],expand_upper_edge=False)\n",
    "\treturn contours"
   ]
  },
  {
   "cell_type": "code",
   "execution_count": 132,
   "metadata": {},
   "outputs": [],
   "source": [
    "def __get_expanded_contour(contour, add, expand_upper_edge:bool=True):\n",
    "\ta,b,c,d = contour # upper-left, lower-left, lower-right,upper-right\n",
    "\tplus = [[0,add]]\n",
    "\tif expand_upper_edge:\n",
    "\t\ta -= plus # take effect on contours\n",
    "\t\td -= plus\n",
    "\telse:\n",
    "\t\tb += plus\n",
    "\t\tc += plus\n",
    "\treturn contour"
   ]
  },
  {
   "cell_type": "code",
   "execution_count": 160,
   "metadata": {},
   "outputs": [
    {
     "data": {
      "text/plain": [
       "True"
      ]
     },
     "execution_count": 160,
     "metadata": {},
     "output_type": "execute_result"
    }
   ],
   "source": [
    "img_with_contours = cv2.drawContours(refresh_img(), contours, -1, (0, 255 ,0), 1)\n",
    "cv2.imwrite(\"saved.png\",img_with_contours)"
   ]
  },
  {
   "cell_type": "code",
   "execution_count": 140,
   "metadata": {},
   "outputs": [],
   "source": [
    "def crop_image(img, contours):\n",
    "\timages = []\n",
    "\tfor contour in contours:\n",
    "\t\tx, y, w, h = cv2.boundingRect(contour)\n",
    "\t\timages.append(img[y:y+h,x:x+w])\n",
    "\treturn images"
   ]
  },
  {
   "cell_type": "code",
   "execution_count": 141,
   "metadata": {},
   "outputs": [],
   "source": [
    "def ocr_doc_image(img_bytes):\n",
    "\t# Instantiates a client\n",
    "\tclient = vision.ImageAnnotatorClient()\n",
    "\n",
    "\timage = vision.Image(content=img_bytes)\n",
    "\n",
    "\t# Performs label detection on the image file\n",
    "\t# doc detection\n",
    "\tresponse = client.document_text_detection(\n",
    "\t\timage=image, image_context={\"language_hints\": [\"ja\"]}\n",
    "\t)\n",
    "\n",
    "\t# レスポンスからテキストデータを抽出\n",
    "\toutput_text = \"\"\n",
    "\tfor page in response.full_text_annotation.pages:\n",
    "\t\tfor block in page.blocks:\n",
    "\t\t\tfor paragraph in block.paragraphs:\n",
    "\t\t\t\tfor word in paragraph.words:\n",
    "\t\t\t\t\toutput_text += \"\".join([symbol.text for symbol in word.symbols])\n",
    "\treturn output_text\n"
   ]
  },
  {
   "cell_type": "code",
   "execution_count": 143,
   "metadata": {},
   "outputs": [],
   "source": [
    "path_w = \"./toc.txt\"\n",
    "def save_text(text:str, path = path_w):\n",
    "\twith open(path, mode='w') as f:\n",
    "\t\tf.write(text)"
   ]
  },
  {
   "cell_type": "code",
   "execution_count": 151,
   "metadata": {},
   "outputs": [
    {
     "name": "stdout",
     "output_type": "stream",
     "text": [
      "1.7.3正則条件つき確率48\n",
      "1.8確率変数の収束50\n",
      "1.8.1概収束と確率収束50\n",
      "1.8.2法則収束53\n",
      "1.8.3連続写像定理55\n",
      "1.8.4大数の法則と中心極限定理61\n",
      "1.8.5期待値の収束64\n",
      "2.線形推測論67\n",
      "2.1射影行列と逆行列67\n",
      "2.2カイ2乗分布72\n",
      "2.3フィッシャー・コクランの定理74\n",
      "2.4t分布とF分布78\n",
      "2.5ガウス・マルコフモデル80\n",
      "2.6仮説検定88\n",
      "2.7平均の検定91\n",
      "2.8重回帰分析92\n",
      "2.9一元配置99\n",
      "2.10二元配置･･102\n",
      "3.統計的決定理論・108\n",
      "3.1統計推測と統計的決定理論108\n",
      "3.2十分性と完備性111\n",
      "3.2.1十分統計量111\n",
      "3.2.2因子分解定理･・116\n",
      "3.2.3ラオ・ブラックウェルの定理120\n",
      "3.2.4完備性121\n",
      "3.3指数型分布族124\n",
      "3.4統計的推定131\n",
      "\n"
     ]
    }
   ],
   "source": [
    "img_crps = crop_image(refresh_img(),sort_contours(contours))\n",
    "text =\"\"\n",
    "for img_crp in img_crps:\n",
    "\t_, num_bytes = cv2.imencode('.jpeg', img_crp)\n",
    "\tnum_bytes = num_bytes.tobytes()\n",
    "\ttext += ocr_doc_image(num_bytes)\n",
    "\ttext += \"\\n\"\n",
    "save_text(text)\n",
    "print(text)"
   ]
  }
 ],
 "metadata": {
  "kernelspec": {
   "display_name": "Python 3.8.10 ('.venv': poetry)",
   "language": "python",
   "name": "python3"
  },
  "language_info": {
   "codemirror_mode": {
    "name": "ipython",
    "version": 3
   },
   "file_extension": ".py",
   "mimetype": "text/x-python",
   "name": "python",
   "nbconvert_exporter": "python",
   "pygments_lexer": "ipython3",
   "version": "3.8.10"
  },
  "orig_nbformat": 4,
  "vscode": {
   "interpreter": {
    "hash": "34a098b99ce552b7bb59587840a717b896129d8b6ee3488e399e74a1c46cdecb"
   }
  }
 },
 "nbformat": 4,
 "nbformat_minor": 2
}
